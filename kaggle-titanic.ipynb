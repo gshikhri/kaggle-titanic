{
 "cells": [
  {
   "cell_type": "code",
   "execution_count": 6,
   "id": "84fee71e",
   "metadata": {},
   "outputs": [],
   "source": [
    "import pandas as pd\n",
    "import numpy as np\n",
    "import os\n",
    "import matplotlib.pyplot as plt"
   ]
  },
  {
   "cell_type": "code",
   "execution_count": 7,
   "id": "aa382b57",
   "metadata": {},
   "outputs": [],
   "source": [
    "in_dir = 'titanic_dataset'\n",
    "train_csv = 'train.csv'\n",
    "df = pd.read_csv(os.path.join(in_dir, train_csv))"
   ]
  },
  {
   "cell_type": "code",
   "execution_count": 8,
   "id": "3072fa3f",
   "metadata": {},
   "outputs": [],
   "source": [
    "%matplotlib inline"
   ]
  },
  {
   "cell_type": "code",
   "execution_count": 9,
   "id": "57eb43b1",
   "metadata": {},
   "outputs": [
    {
     "data": {
      "text/html": [
       "<div>\n",
       "<style scoped>\n",
       "    .dataframe tbody tr th:only-of-type {\n",
       "        vertical-align: middle;\n",
       "    }\n",
       "\n",
       "    .dataframe tbody tr th {\n",
       "        vertical-align: top;\n",
       "    }\n",
       "\n",
       "    .dataframe thead th {\n",
       "        text-align: right;\n",
       "    }\n",
       "</style>\n",
       "<table border=\"1\" class=\"dataframe\">\n",
       "  <thead>\n",
       "    <tr style=\"text-align: right;\">\n",
       "      <th></th>\n",
       "      <th>PassengerId</th>\n",
       "      <th>Survived</th>\n",
       "      <th>Pclass</th>\n",
       "      <th>Name</th>\n",
       "      <th>Sex</th>\n",
       "      <th>Age</th>\n",
       "      <th>SibSp</th>\n",
       "      <th>Parch</th>\n",
       "      <th>Ticket</th>\n",
       "      <th>Fare</th>\n",
       "      <th>Cabin</th>\n",
       "      <th>Embarked</th>\n",
       "    </tr>\n",
       "  </thead>\n",
       "  <tbody>\n",
       "    <tr>\n",
       "      <th>0</th>\n",
       "      <td>1</td>\n",
       "      <td>0</td>\n",
       "      <td>3</td>\n",
       "      <td>Braund, Mr. Owen Harris</td>\n",
       "      <td>male</td>\n",
       "      <td>22.0</td>\n",
       "      <td>1</td>\n",
       "      <td>0</td>\n",
       "      <td>A/5 21171</td>\n",
       "      <td>7.2500</td>\n",
       "      <td>NaN</td>\n",
       "      <td>S</td>\n",
       "    </tr>\n",
       "    <tr>\n",
       "      <th>1</th>\n",
       "      <td>2</td>\n",
       "      <td>1</td>\n",
       "      <td>1</td>\n",
       "      <td>Cumings, Mrs. John Bradley (Florence Briggs Th...</td>\n",
       "      <td>female</td>\n",
       "      <td>38.0</td>\n",
       "      <td>1</td>\n",
       "      <td>0</td>\n",
       "      <td>PC 17599</td>\n",
       "      <td>71.2833</td>\n",
       "      <td>C85</td>\n",
       "      <td>C</td>\n",
       "    </tr>\n",
       "    <tr>\n",
       "      <th>2</th>\n",
       "      <td>3</td>\n",
       "      <td>1</td>\n",
       "      <td>3</td>\n",
       "      <td>Heikkinen, Miss. Laina</td>\n",
       "      <td>female</td>\n",
       "      <td>26.0</td>\n",
       "      <td>0</td>\n",
       "      <td>0</td>\n",
       "      <td>STON/O2. 3101282</td>\n",
       "      <td>7.9250</td>\n",
       "      <td>NaN</td>\n",
       "      <td>S</td>\n",
       "    </tr>\n",
       "    <tr>\n",
       "      <th>3</th>\n",
       "      <td>4</td>\n",
       "      <td>1</td>\n",
       "      <td>1</td>\n",
       "      <td>Futrelle, Mrs. Jacques Heath (Lily May Peel)</td>\n",
       "      <td>female</td>\n",
       "      <td>35.0</td>\n",
       "      <td>1</td>\n",
       "      <td>0</td>\n",
       "      <td>113803</td>\n",
       "      <td>53.1000</td>\n",
       "      <td>C123</td>\n",
       "      <td>S</td>\n",
       "    </tr>\n",
       "    <tr>\n",
       "      <th>4</th>\n",
       "      <td>5</td>\n",
       "      <td>0</td>\n",
       "      <td>3</td>\n",
       "      <td>Allen, Mr. William Henry</td>\n",
       "      <td>male</td>\n",
       "      <td>35.0</td>\n",
       "      <td>0</td>\n",
       "      <td>0</td>\n",
       "      <td>373450</td>\n",
       "      <td>8.0500</td>\n",
       "      <td>NaN</td>\n",
       "      <td>S</td>\n",
       "    </tr>\n",
       "  </tbody>\n",
       "</table>\n",
       "</div>"
      ],
      "text/plain": [
       "   PassengerId  Survived  Pclass  \\\n",
       "0            1         0       3   \n",
       "1            2         1       1   \n",
       "2            3         1       3   \n",
       "3            4         1       1   \n",
       "4            5         0       3   \n",
       "\n",
       "                                                Name     Sex   Age  SibSp  \\\n",
       "0                            Braund, Mr. Owen Harris    male  22.0      1   \n",
       "1  Cumings, Mrs. John Bradley (Florence Briggs Th...  female  38.0      1   \n",
       "2                             Heikkinen, Miss. Laina  female  26.0      0   \n",
       "3       Futrelle, Mrs. Jacques Heath (Lily May Peel)  female  35.0      1   \n",
       "4                           Allen, Mr. William Henry    male  35.0      0   \n",
       "\n",
       "   Parch            Ticket     Fare Cabin Embarked  \n",
       "0      0         A/5 21171   7.2500   NaN        S  \n",
       "1      0          PC 17599  71.2833   C85        C  \n",
       "2      0  STON/O2. 3101282   7.9250   NaN        S  \n",
       "3      0            113803  53.1000  C123        S  \n",
       "4      0            373450   8.0500   NaN        S  "
      ]
     },
     "execution_count": 9,
     "metadata": {},
     "output_type": "execute_result"
    }
   ],
   "source": [
    "df.head()"
   ]
  },
  {
   "cell_type": "code",
   "execution_count": 54,
   "id": "359f6f22",
   "metadata": {},
   "outputs": [
    {
     "data": {
      "image/png": "[encoded data removed]",
      "text/plain": [
       "<Figure size 720x576 with 1 Axes>"
      ]
     },
     "metadata": {
      "needs_background": "light"
     },
     "output_type": "display_data"
    }
   ],
   "source": [
    "#checking the dependence of Pclass on the survival outcome\n",
    "\n",
    "fig, ax = plt.subplots(figsize=(10, 8))\n",
    "for p_class in df['Pclass'].unique():\n",
    "    filtered_df = df.copy()\n",
    "    filtered_df = filtered_df[filtered_df['Pclass'] == p_class]\n",
    "    survived_count = np.sum((filtered_df['Survived']== 1).astype(np.int16))\n",
    "    dead_count = np.sum((filtered_df['Survived']== 0).astype(np.int16))\n",
    "    assert survived_count + dead_count == len(filtered_df), \"Something went worng\"\n",
    "    ax.bar(x=\"Passenger class: {}\".format(p_class), height=survived_count/len(filtered_df), bottom=0, color='g')\n",
    "    ax.bar(x=\"Passenger class: {}\".format(p_class), height=dead_count/len(filtered_df), bottom=survived_count/len(filtered_df), color='r')"
   ]
  },
  {
   "cell_type": "code",
   "execution_count": 55,
   "id": "918beb76",
   "metadata": {},
   "outputs": [
    {
     "name": "stdout",
     "output_type": "stream",
     "text": [
      "male\n",
      "female\n"
     ]
    },
    {
     "data": {
      "image/png": "[encoded data removed]",
      "text/plain": [
       "<Figure size 720x576 with 1 Axes>"
      ]
     },
     "metadata": {
      "needs_background": "light"
     },
     "output_type": "display_data"
    }
   ],
   "source": [
    "#checking the dependence of passenger gender on the survival outcome\n",
    "\n",
    "fig, ax = plt.subplots(figsize=(10, 8))\n",
    "for i, p_gender in enumerate(df['Sex'].unique()):\n",
    "    print(p_gender)\n",
    "    filtered_df = df.copy()\n",
    "    filtered_df = filtered_df[filtered_df['Sex'] == p_gender]\n",
    "    survived_count = np.sum((filtered_df['Survived']== 1).astype(np.int16))\n",
    "    dead_count = np.sum((filtered_df['Survived']== 0).astype(np.int16))\n",
    "    assert survived_count + dead_count == len(filtered_df), \"Something went worng\"\n",
    "    ax.bar(x=\"Passenger gender: {}\".format(p_gender), height=survived_count/len(filtered_df), bottom=0, color='g')\n",
    "    ax.bar(x=\"Passenger gender: {}\".format(p_gender), height=dead_count/len(filtered_df), bottom=survived_count/len(filtered_df), color='r')"
   ]
  },
  {
   "cell_type": "code",
   "execution_count": 57,
   "id": "8fe29e0a",
   "metadata": {},
   "outputs": [
    {
     "name": "stderr",
     "output_type": "stream",
     "text": [
      "<ipython-input-57-e05eae7472a0>:11: RuntimeWarning: invalid value encountered in long_scalars\n",
      "  ax.bar(x=bin_edges[i], height=survived_count/len(filtered_df), bottom=0, color='g')\n",
      "<ipython-input-57-e05eae7472a0>:12: RuntimeWarning: invalid value encountered in long_scalars\n",
      "  ax.bar(x=bin_edges[i], height=dead_count/len(filtered_df), bottom=survived_count/len(filtered_df), color='r')\n",
      "<ipython-input-57-e05eae7472a0>:11: RuntimeWarning: invalid value encountered in long_scalars\n",
      "  ax.bar(x=bin_edges[i], height=survived_count/len(filtered_df), bottom=0, color='g')\n",
      "<ipython-input-57-e05eae7472a0>:12: RuntimeWarning: invalid value encountered in long_scalars\n",
      "  ax.bar(x=bin_edges[i], height=dead_count/len(filtered_df), bottom=survived_count/len(filtered_df), color='r')\n"
     ]
    },
    {
     "data": {
      "image/png": "[encoded data removed]",
      "text/plain": [
       "<Figure size 720x576 with 1 Axes>"
      ]
     },
     "metadata": {
      "needs_background": "light"
     },
     "output_type": "display_data"
    }
   ],
   "source": [
    "# dependence of Age on the survival of passengers\n",
    "hist, bin_edges = np.histogram(df['Age'], bins=np.arange(0, 100, 5))\n",
    "\n",
    "fig, ax = plt.subplots(figsize=(10, 8))\n",
    "for i in range(len(bin_edges)-1):\n",
    "    filtered_df = df.copy()\n",
    "    filtered_df = filtered_df[filtered_df['Age'].between(left=bin_edges[i], right=bin_edges[i+1])]\n",
    "    survived_count = np.sum((filtered_df['Survived']== 1).astype(np.int16))\n",
    "    dead_count = np.sum((filtered_df['Survived']== 0).astype(np.int16))\n",
    "#     print(bin_edges[i], bin_edges[i+1], survived_count, dead_count)\n",
    "    ax.bar(x=bin_edges[i], height=survived_count/len(filtered_df), bottom=0, color='g')\n",
    "    ax.bar(x=bin_edges[i], height=dead_count/len(filtered_df), bottom=survived_count/len(filtered_df), color='r')"
   ]
  },
  {
   "cell_type": "code",
   "execution_count": 85,
   "id": "21b73003",
   "metadata": {
    "scrolled": false
   },
   "outputs": [
    {
     "data": {
      "text/html": [
       "<div>\n",
       "<style scoped>\n",
       "    .dataframe tbody tr th:only-of-type {\n",
       "        vertical-align: middle;\n",
       "    }\n",
       "\n",
       "    .dataframe tbody tr th {\n",
       "        vertical-align: top;\n",
       "    }\n",
       "\n",
       "    .dataframe thead th {\n",
       "        text-align: right;\n",
       "    }\n",
       "</style>\n",
       "<table border=\"1\" class=\"dataframe\">\n",
       "  <thead>\n",
       "    <tr style=\"text-align: right;\">\n",
       "      <th></th>\n",
       "      <th>PassengerId</th>\n",
       "      <th>Survived</th>\n",
       "      <th>Pclass</th>\n",
       "      <th>Name</th>\n",
       "      <th>Sex</th>\n",
       "      <th>Age</th>\n",
       "      <th>SibSp</th>\n",
       "      <th>Parch</th>\n",
       "      <th>Ticket</th>\n",
       "      <th>Fare</th>\n",
       "      <th>Cabin</th>\n",
       "      <th>Embarked</th>\n",
       "      <th>Sex_mod</th>\n",
       "      <th>Embarked_mod</th>\n",
       "    </tr>\n",
       "  </thead>\n",
       "  <tbody>\n",
       "    <tr>\n",
       "      <th>0</th>\n",
       "      <td>1</td>\n",
       "      <td>0</td>\n",
       "      <td>3</td>\n",
       "      <td>Braund, Mr. Owen Harris</td>\n",
       "      <td>male</td>\n",
       "      <td>22.0</td>\n",
       "      <td>1</td>\n",
       "      <td>0</td>\n",
       "      <td>A/5 21171</td>\n",
       "      <td>7.2500</td>\n",
       "      <td>NaN</td>\n",
       "      <td>S</td>\n",
       "      <td>0</td>\n",
       "      <td>1</td>\n",
       "    </tr>\n",
       "    <tr>\n",
       "      <th>1</th>\n",
       "      <td>2</td>\n",
       "      <td>1</td>\n",
       "      <td>1</td>\n",
       "      <td>Cumings, Mrs. John Bradley (Florence Briggs Th...</td>\n",
       "      <td>female</td>\n",
       "      <td>38.0</td>\n",
       "      <td>1</td>\n",
       "      <td>0</td>\n",
       "      <td>PC 17599</td>\n",
       "      <td>71.2833</td>\n",
       "      <td>C85</td>\n",
       "      <td>C</td>\n",
       "      <td>1</td>\n",
       "      <td>2</td>\n",
       "    </tr>\n",
       "    <tr>\n",
       "      <th>2</th>\n",
       "      <td>3</td>\n",
       "      <td>1</td>\n",
       "      <td>3</td>\n",
       "      <td>Heikkinen, Miss. Laina</td>\n",
       "      <td>female</td>\n",
       "      <td>26.0</td>\n",
       "      <td>0</td>\n",
       "      <td>0</td>\n",
       "      <td>STON/O2. 3101282</td>\n",
       "      <td>7.9250</td>\n",
       "      <td>NaN</td>\n",
       "      <td>S</td>\n",
       "      <td>1</td>\n",
       "      <td>1</td>\n",
       "    </tr>\n",
       "    <tr>\n",
       "      <th>3</th>\n",
       "      <td>4</td>\n",
       "      <td>1</td>\n",
       "      <td>1</td>\n",
       "      <td>Futrelle, Mrs. Jacques Heath (Lily May Peel)</td>\n",
       "      <td>female</td>\n",
       "      <td>35.0</td>\n",
       "      <td>1</td>\n",
       "      <td>0</td>\n",
       "      <td>113803</td>\n",
       "      <td>53.1000</td>\n",
       "      <td>C123</td>\n",
       "      <td>S</td>\n",
       "      <td>1</td>\n",
       "      <td>1</td>\n",
       "    </tr>\n",
       "    <tr>\n",
       "      <th>4</th>\n",
       "      <td>5</td>\n",
       "      <td>0</td>\n",
       "      <td>3</td>\n",
       "      <td>Allen, Mr. William Henry</td>\n",
       "      <td>male</td>\n",
       "      <td>35.0</td>\n",
       "      <td>0</td>\n",
       "      <td>0</td>\n",
       "      <td>373450</td>\n",
       "      <td>8.0500</td>\n",
       "      <td>NaN</td>\n",
       "      <td>S</td>\n",
       "      <td>0</td>\n",
       "      <td>1</td>\n",
       "    </tr>\n",
       "  </tbody>\n",
       "</table>\n",
       "</div>"
      ],
      "text/plain": [
       "   PassengerId  Survived  Pclass  \\\n",
       "0            1         0       3   \n",
       "1            2         1       1   \n",
       "2            3         1       3   \n",
       "3            4         1       1   \n",
       "4            5         0       3   \n",
       "\n",
       "                                                Name     Sex   Age  SibSp  \\\n",
       "0                            Braund, Mr. Owen Harris    male  22.0      1   \n",
       "1  Cumings, Mrs. John Bradley (Florence Briggs Th...  female  38.0      1   \n",
       "2                             Heikkinen, Miss. Laina  female  26.0      0   \n",
       "3       Futrelle, Mrs. Jacques Heath (Lily May Peel)  female  35.0      1   \n",
       "4                           Allen, Mr. William Henry    male  35.0      0   \n",
       "\n",
       "   Parch            Ticket     Fare Cabin Embarked  Sex_mod  Embarked_mod  \n",
       "0      0         A/5 21171   7.2500   NaN        S        0             1  \n",
       "1      0          PC 17599  71.2833   C85        C        1             2  \n",
       "2      0  STON/O2. 3101282   7.9250   NaN        S        1             1  \n",
       "3      0            113803  53.1000  C123        S        1             1  \n",
       "4      0            373450   8.0500   NaN        S        0             1  "
      ]
     },
     "execution_count": 85,
     "metadata": {},
     "output_type": "execute_result"
    }
   ],
   "source": [
    "df['Sex_mod'] = np.where(df['Sex']== 'male', 0, 1)\n",
    "conditions = [\n",
    "    (df['Embarked'] == 'S'),\n",
    "    (df['Embarked'] == 'C'), \n",
    "    (df['Embarked'] == 'Q'),\n",
    "    (df['Embarked'].isnull())\n",
    "    ]\n",
    "values = [1, 2, 3, 0]\n",
    "df['Embarked_mod'] = np.select(conditions, values)\n",
    "df.head()"
   ]
  },
  {
   "cell_type": "code",
   "execution_count": 92,
   "id": "ea6d2e7b",
   "metadata": {},
   "outputs": [],
   "source": [
    "filtered_df = df[df['Age'].notnull()]"
   ]
  },
  {
   "cell_type": "code",
   "execution_count": 112,
   "id": "3620de37",
   "metadata": {
    "scrolled": true
   },
   "outputs": [
    {
     "data": {
      "text/plain": [
       "(     Pclass   Age  SibSp  Parch     Fare  Sex_mod  Embarked_mod\n",
       " 0         3  22.0      1      0   7.2500        0             1\n",
       " 1         1  38.0      1      0  71.2833        1             2\n",
       " 2         3  26.0      0      0   7.9250        1             1\n",
       " 3         1  35.0      1      0  53.1000        1             1\n",
       " 4         3  35.0      0      0   8.0500        0             1\n",
       " ..      ...   ...    ...    ...      ...      ...           ...\n",
       " 885       3  39.0      0      5  29.1250        1             3\n",
       " 886       2  27.0      0      0  13.0000        0             1\n",
       " 887       1  19.0      0      0  30.0000        1             1\n",
       " 889       1  26.0      0      0  30.0000        0             2\n",
       " 890       3  32.0      0      0   7.7500        0             3\n",
       " \n",
       " [714 rows x 7 columns],\n",
       " 0      0\n",
       " 1      1\n",
       " 2      1\n",
       " 3      1\n",
       " 4      0\n",
       "       ..\n",
       " 885    0\n",
       " 886    0\n",
       " 887    1\n",
       " 889    1\n",
       " 890    0\n",
       " Name: Survived, Length: 714, dtype: int64)"
      ]
     },
     "execution_count": 112,
     "metadata": {},
     "output_type": "execute_result"
    }
   ],
   "source": [
    "# because we already know the survival classes, I think it would be best to use LDA here\n",
    "from sklearn.discriminant_analysis import LinearDiscriminantAnalysis\n",
    "X = filtered_df[['Pclass', 'Age', 'SibSp', 'Parch', 'Fare', 'Sex_mod', 'Embarked_mod']]\n",
    "y = filtered_df['Survived']\n",
    "X, y"
   ]
  },
  {
   "cell_type": "code",
   "execution_count": 97,
   "id": "237d2c92",
   "metadata": {
    "scrolled": true
   },
   "outputs": [],
   "source": [
    "lda = LinearDiscriminantAnalysis()\n",
    "X_lda = lda.fit(X, y).transform(X)"
   ]
  },
  {
   "cell_type": "code",
   "execution_count": 111,
   "id": "58b59b62",
   "metadata": {},
   "outputs": [
    {
     "data": {
      "text/plain": [
       "array([[-1.33917252e+00, -4.49591313e-02, -3.67669250e-01,\n",
       "        -7.79833386e-02,  1.87787014e-03,  3.36099967e+00,\n",
       "         1.39035245e-01]])"
      ]
     },
     "execution_count": 111,
     "metadata": {},
     "output_type": "execute_result"
    }
   ],
   "source": [
    "lda.coef_"
   ]
  },
  {
   "cell_type": "code",
   "execution_count": 107,
   "id": "f68e432b",
   "metadata": {
    "scrolled": true
   },
   "outputs": [
    {
     "data": {
      "text/plain": [
       "(array([ 6., 14., 15., 10., 16., 16., 18., 18., 28., 23., 24., 29., 23.,\n",
       "        21., 23., 18., 30., 32., 31., 28., 22., 53., 75., 57., 37., 27.,\n",
       "        10.,  7.,  2.,  1.]),\n",
       " array([-2.95458165, -2.77382017, -2.59305869, -2.41229721, -2.23153573,\n",
       "        -2.05077425, -1.87001277, -1.68925128, -1.5084898 , -1.32772832,\n",
       "        -1.14696684, -0.96620536, -0.78544388, -0.6046824 , -0.42392092,\n",
       "        -0.24315943, -0.06239795,  0.11836353,  0.29912501,  0.47988649,\n",
       "         0.66064797,  0.84140945,  1.02217093,  1.20293242,  1.3836939 ,\n",
       "         1.56445538,  1.74521686,  1.92597834,  2.10673982,  2.2875013 ,\n",
       "         2.46826278]),\n",
       " <BarContainer object of 30 artists>)"
      ]
     },
     "execution_count": 107,
     "metadata": {},
     "output_type": "execute_result"
    },
    {
     "data": {
      "image/png": "[encoded data removed]",
      "text/plain": [
       "<Figure size 432x288 with 1 Axes>"
      ]
     },
     "metadata": {
      "needs_background": "light"
     },
     "output_type": "display_data"
    }
   ],
   "source": [
    "plt.hist(X_lda, ec='k', bins=30)"
   ]
  },
  {
   "cell_type": "code",
   "execution_count": 102,
   "id": "ab6ca801",
   "metadata": {},
   "outputs": [
    {
     "data": {
      "text/plain": [
       "Text(0.5, 1.0, 'LDA of IRIS dataset')"
      ]
     },
     "execution_count": 102,
     "metadata": {},
     "output_type": "execute_result"
    },
    {
     "data": {
      "image/png": "[encoded data removed]",
      "text/plain": [
       "<Figure size 720x576 with 1 Axes>"
      ]
     },
     "metadata": {
      "needs_background": "light"
     },
     "output_type": "display_data"
    }
   ],
   "source": [
    "target_names=['Dead', 'Survived']\n",
    "colors = [\"turquoise\", \"darkorange\"]\n",
    "fig, ax = plt.subplots(figsize=(10, 8))\n",
    "for color, i, target_name in zip(colors, [0, 1], target_names):\n",
    "    ax.scatter(X_lda[y == i], X_lda[y == i], alpha=0.8, color=color, label=target_name)\n",
    "plt.legend(loc=\"best\", shadow=False, scatterpoints=1)\n",
    "plt.title(\"LDA of IRIS dataset\")"
   ]
  },
  {
   "cell_type": "code",
   "execution_count": null,
   "id": "ef68c44d",
   "metadata": {},
   "outputs": [],
   "source": []
  }
 ],
 "metadata": {
  "kernelspec": {
   "display_name": "Python 3",
   "language": "python",
   "name": "python3"
  },
  "language_info": {
   "codemirror_mode": {
    "name": "ipython",
    "version": 3
   },
   "file_extension": ".py",
   "mimetype": "text/x-python",
   "name": "python",
   "nbconvert_exporter": "python",
   "pygments_lexer": "ipython3",
   "version": "3.8.8"
  }
 },
 "nbformat": 4,
 "nbformat_minor": 5
}
