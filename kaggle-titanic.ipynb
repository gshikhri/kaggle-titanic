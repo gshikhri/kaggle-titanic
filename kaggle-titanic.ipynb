{
 "cells": [
  {
   "cell_type": "code",
   "execution_count": 1,
   "id": "84fee71e",
   "metadata": {},
   "outputs": [],
   "source": [
    "import pandas as pd\n",
    "import numpy as np\n",
    "import os\n",
    "import matplotlib.pyplot as plt"
   ]
  },
  {
   "cell_type": "code",
   "execution_count": 2,
   "id": "aa382b57",
   "metadata": {},
   "outputs": [],
   "source": [
    "in_dir = 'titanic_dataset'\n",
    "train_csv = 'train.csv'\n",
    "df = pd.read_csv(os.path.join(in_dir, train_csv))"
   ]
  },
  {
   "cell_type": "code",
   "execution_count": 3,
   "id": "3072fa3f",
   "metadata": {},
   "outputs": [],
   "source": [
    "%matplotlib inline"
   ]
  },
  {
   "cell_type": "code",
   "execution_count": 4,
   "id": "57eb43b1",
   "metadata": {},
   "outputs": [
    {
     "data": {
      "text/html": [
       "<div>\n",
       "<style scoped>\n",
       "    .dataframe tbody tr th:only-of-type {\n",
       "        vertical-align: middle;\n",
       "    }\n",
       "\n",
       "    .dataframe tbody tr th {\n",
       "        vertical-align: top;\n",
       "    }\n",
       "\n",
       "    .dataframe thead th {\n",
       "        text-align: right;\n",
       "    }\n",
       "</style>\n",
       "<table border=\"1\" class=\"dataframe\">\n",
       "  <thead>\n",
       "    <tr style=\"text-align: right;\">\n",
       "      <th></th>\n",
       "      <th>PassengerId</th>\n",
       "      <th>Survived</th>\n",
       "      <th>Pclass</th>\n",
       "      <th>Name</th>\n",
       "      <th>Sex</th>\n",
       "      <th>Age</th>\n",
       "      <th>SibSp</th>\n",
       "      <th>Parch</th>\n",
       "      <th>Ticket</th>\n",
       "      <th>Fare</th>\n",
       "      <th>Cabin</th>\n",
       "      <th>Embarked</th>\n",
       "    </tr>\n",
       "  </thead>\n",
       "  <tbody>\n",
       "    <tr>\n",
       "      <th>0</th>\n",
       "      <td>1</td>\n",
       "      <td>0</td>\n",
       "      <td>3</td>\n",
       "      <td>Braund, Mr. Owen Harris</td>\n",
       "      <td>male</td>\n",
       "      <td>22.0</td>\n",
       "      <td>1</td>\n",
       "      <td>0</td>\n",
       "      <td>A/5 21171</td>\n",
       "      <td>7.2500</td>\n",
       "      <td>NaN</td>\n",
       "      <td>S</td>\n",
       "    </tr>\n",
       "    <tr>\n",
       "      <th>1</th>\n",
       "      <td>2</td>\n",
       "      <td>1</td>\n",
       "      <td>1</td>\n",
       "      <td>Cumings, Mrs. John Bradley (Florence Briggs Th...</td>\n",
       "      <td>female</td>\n",
       "      <td>38.0</td>\n",
       "      <td>1</td>\n",
       "      <td>0</td>\n",
       "      <td>PC 17599</td>\n",
       "      <td>71.2833</td>\n",
       "      <td>C85</td>\n",
       "      <td>C</td>\n",
       "    </tr>\n",
       "    <tr>\n",
       "      <th>2</th>\n",
       "      <td>3</td>\n",
       "      <td>1</td>\n",
       "      <td>3</td>\n",
       "      <td>Heikkinen, Miss. Laina</td>\n",
       "      <td>female</td>\n",
       "      <td>26.0</td>\n",
       "      <td>0</td>\n",
       "      <td>0</td>\n",
       "      <td>STON/O2. 3101282</td>\n",
       "      <td>7.9250</td>\n",
       "      <td>NaN</td>\n",
       "      <td>S</td>\n",
       "    </tr>\n",
       "    <tr>\n",
       "      <th>3</th>\n",
       "      <td>4</td>\n",
       "      <td>1</td>\n",
       "      <td>1</td>\n",
       "      <td>Futrelle, Mrs. Jacques Heath (Lily May Peel)</td>\n",
       "      <td>female</td>\n",
       "      <td>35.0</td>\n",
       "      <td>1</td>\n",
       "      <td>0</td>\n",
       "      <td>113803</td>\n",
       "      <td>53.1000</td>\n",
       "      <td>C123</td>\n",
       "      <td>S</td>\n",
       "    </tr>\n",
       "    <tr>\n",
       "      <th>4</th>\n",
       "      <td>5</td>\n",
       "      <td>0</td>\n",
       "      <td>3</td>\n",
       "      <td>Allen, Mr. William Henry</td>\n",
       "      <td>male</td>\n",
       "      <td>35.0</td>\n",
       "      <td>0</td>\n",
       "      <td>0</td>\n",
       "      <td>373450</td>\n",
       "      <td>8.0500</td>\n",
       "      <td>NaN</td>\n",
       "      <td>S</td>\n",
       "    </tr>\n",
       "  </tbody>\n",
       "</table>\n",
       "</div>"
      ],
      "text/plain": [
       "   PassengerId  Survived  Pclass  \\\n",
       "0            1         0       3   \n",
       "1            2         1       1   \n",
       "2            3         1       3   \n",
       "3            4         1       1   \n",
       "4            5         0       3   \n",
       "\n",
       "                                                Name     Sex   Age  SibSp  \\\n",
       "0                            Braund, Mr. Owen Harris    male  22.0      1   \n",
       "1  Cumings, Mrs. John Bradley (Florence Briggs Th...  female  38.0      1   \n",
       "2                             Heikkinen, Miss. Laina  female  26.0      0   \n",
       "3       Futrelle, Mrs. Jacques Heath (Lily May Peel)  female  35.0      1   \n",
       "4                           Allen, Mr. William Henry    male  35.0      0   \n",
       "\n",
       "   Parch            Ticket     Fare Cabin Embarked  \n",
       "0      0         A/5 21171   7.2500   NaN        S  \n",
       "1      0          PC 17599  71.2833   C85        C  \n",
       "2      0  STON/O2. 3101282   7.9250   NaN        S  \n",
       "3      0            113803  53.1000  C123        S  \n",
       "4      0            373450   8.0500   NaN        S  "
      ]
     },
     "execution_count": 4,
     "metadata": {},
     "output_type": "execute_result"
    }
   ],
   "source": [
    "df.head()"
   ]
  },
  {
   "cell_type": "code",
   "execution_count": 5,
   "id": "359f6f22",
   "metadata": {},
   "outputs": [
    {
     "data": {
      "image/png": "[encoded data removed]",
      "text/plain": [
       "<Figure size 720x576 with 1 Axes>"
      ]
     },
     "metadata": {
      "needs_background": "light"
     },
     "output_type": "display_data"
    }
   ],
   "source": [
    "#checking the dependence of Pclass on the survival outcome\n",
    "\n",
    "fig, ax = plt.subplots(figsize=(10, 8))\n",
    "for p_class in df['Pclass'].unique():\n",
    "    filtered_df = df.copy()\n",
    "    filtered_df = filtered_df[filtered_df['Pclass'] == p_class]\n",
    "    survived_count = np.sum((filtered_df['Survived']== 1).astype(np.int16))\n",
    "    dead_count = np.sum((filtered_df['Survived']== 0).astype(np.int16))\n",
    "    assert survived_count + dead_count == len(filtered_df), \"Something went worng\"\n",
    "    ax.bar(x=\"Passenger class: {}\".format(p_class), height=survived_count/len(filtered_df), bottom=0, color='g')\n",
    "    ax.bar(x=\"Passenger class: {}\".format(p_class), height=dead_count/len(filtered_df), bottom=survived_count/len(filtered_df), color='r')"
   ]
  },
  {
   "cell_type": "code",
   "execution_count": 6,
   "id": "918beb76",
   "metadata": {},
   "outputs": [
    {
     "name": "stdout",
     "output_type": "stream",
     "text": [
      "male\n",
      "female\n"
     ]
    },
    {
     "data": {
      "image/png": "[encoded data removed]",
      "text/plain": [
       "<Figure size 720x576 with 1 Axes>"
      ]
     },
     "metadata": {
      "needs_background": "light"
     },
     "output_type": "display_data"
    }
   ],
   "source": [
    "#checking the dependence of passenger gender on the survival outcome\n",
    "\n",
    "fig, ax = plt.subplots(figsize=(10, 8))\n",
    "for i, p_gender in enumerate(df['Sex'].unique()):\n",
    "    print(p_gender)\n",
    "    filtered_df = df.copy()\n",
    "    filtered_df = filtered_df[filtered_df['Sex'] == p_gender]\n",
    "    survived_count = np.sum((filtered_df['Survived']== 1).astype(np.int16))\n",
    "    dead_count = np.sum((filtered_df['Survived']== 0).astype(np.int16))\n",
    "    assert survived_count + dead_count == len(filtered_df), \"Something went worng\"\n",
    "    ax.bar(x=\"Passenger gender: {}\".format(p_gender), height=survived_count/len(filtered_df), bottom=0, color='g')\n",
    "    ax.bar(x=\"Passenger gender: {}\".format(p_gender), height=dead_count/len(filtered_df), bottom=survived_count/len(filtered_df), color='r')"
   ]
  },
  {
   "cell_type": "code",
   "execution_count": 7,
   "id": "8fe29e0a",
   "metadata": {},
   "outputs": [
    {
     "name": "stderr",
     "output_type": "stream",
     "text": [
      "<ipython-input-7-e05eae7472a0>:11: RuntimeWarning: invalid value encountered in long_scalars\n",
      "  ax.bar(x=bin_edges[i], height=survived_count/len(filtered_df), bottom=0, color='g')\n",
      "<ipython-input-7-e05eae7472a0>:12: RuntimeWarning: invalid value encountered in long_scalars\n",
      "  ax.bar(x=bin_edges[i], height=dead_count/len(filtered_df), bottom=survived_count/len(filtered_df), color='r')\n",
      "<ipython-input-7-e05eae7472a0>:11: RuntimeWarning: invalid value encountered in long_scalars\n",
      "  ax.bar(x=bin_edges[i], height=survived_count/len(filtered_df), bottom=0, color='g')\n",
      "<ipython-input-7-e05eae7472a0>:12: RuntimeWarning: invalid value encountered in long_scalars\n",
      "  ax.bar(x=bin_edges[i], height=dead_count/len(filtered_df), bottom=survived_count/len(filtered_df), color='r')\n"
     ]
    },
    {
     "data": {
      "image/png": "[encoded data removed]",
      "text/plain": [
       "<Figure size 720x576 with 1 Axes>"
      ]
     },
     "metadata": {
      "needs_background": "light"
     },
     "output_type": "display_data"
    }
   ],
   "source": [
    "# dependence of Age on the survival of passengers\n",
    "hist, bin_edges = np.histogram(df['Age'], bins=np.arange(0, 100, 5))\n",
    "\n",
    "fig, ax = plt.subplots(figsize=(10, 8))\n",
    "for i in range(len(bin_edges)-1):\n",
    "    filtered_df = df.copy()\n",
    "    filtered_df = filtered_df[filtered_df['Age'].between(left=bin_edges[i], right=bin_edges[i+1])]\n",
    "    survived_count = np.sum((filtered_df['Survived']== 1).astype(np.int16))\n",
    "    dead_count = np.sum((filtered_df['Survived']== 0).astype(np.int16))\n",
    "#     print(bin_edges[i], bin_edges[i+1], survived_count, dead_count)\n",
    "    ax.bar(x=bin_edges[i], height=survived_count/len(filtered_df), bottom=0, color='g')\n",
    "    ax.bar(x=bin_edges[i], height=dead_count/len(filtered_df), bottom=survived_count/len(filtered_df), color='r')"
   ]
  },
  {
   "cell_type": "code",
   "execution_count": 8,
   "id": "21b73003",
   "metadata": {
    "scrolled": false
   },
   "outputs": [
    {
     "data": {
      "text/html": [
       "<div>\n",
       "<style scoped>\n",
       "    .dataframe tbody tr th:only-of-type {\n",
       "        vertical-align: middle;\n",
       "    }\n",
       "\n",
       "    .dataframe tbody tr th {\n",
       "        vertical-align: top;\n",
       "    }\n",
       "\n",
       "    .dataframe thead th {\n",
       "        text-align: right;\n",
       "    }\n",
       "</style>\n",
       "<table border=\"1\" class=\"dataframe\">\n",
       "  <thead>\n",
       "    <tr style=\"text-align: right;\">\n",
       "      <th></th>\n",
       "      <th>PassengerId</th>\n",
       "      <th>Survived</th>\n",
       "      <th>Pclass</th>\n",
       "      <th>Name</th>\n",
       "      <th>Sex</th>\n",
       "      <th>Age</th>\n",
       "      <th>SibSp</th>\n",
       "      <th>Parch</th>\n",
       "      <th>Ticket</th>\n",
       "      <th>Fare</th>\n",
       "      <th>Cabin</th>\n",
       "      <th>Embarked</th>\n",
       "      <th>Sex_mod</th>\n",
       "      <th>Embarked_mod</th>\n",
       "    </tr>\n",
       "  </thead>\n",
       "  <tbody>\n",
       "    <tr>\n",
       "      <th>0</th>\n",
       "      <td>1</td>\n",
       "      <td>0</td>\n",
       "      <td>3</td>\n",
       "      <td>Braund, Mr. Owen Harris</td>\n",
       "      <td>male</td>\n",
       "      <td>22.0</td>\n",
       "      <td>1</td>\n",
       "      <td>0</td>\n",
       "      <td>A/5 21171</td>\n",
       "      <td>7.2500</td>\n",
       "      <td>NaN</td>\n",
       "      <td>S</td>\n",
       "      <td>0</td>\n",
       "      <td>1</td>\n",
       "    </tr>\n",
       "    <tr>\n",
       "      <th>1</th>\n",
       "      <td>2</td>\n",
       "      <td>1</td>\n",
       "      <td>1</td>\n",
       "      <td>Cumings, Mrs. John Bradley (Florence Briggs Th...</td>\n",
       "      <td>female</td>\n",
       "      <td>38.0</td>\n",
       "      <td>1</td>\n",
       "      <td>0</td>\n",
       "      <td>PC 17599</td>\n",
       "      <td>71.2833</td>\n",
       "      <td>C85</td>\n",
       "      <td>C</td>\n",
       "      <td>1</td>\n",
       "      <td>2</td>\n",
       "    </tr>\n",
       "    <tr>\n",
       "      <th>2</th>\n",
       "      <td>3</td>\n",
       "      <td>1</td>\n",
       "      <td>3</td>\n",
       "      <td>Heikkinen, Miss. Laina</td>\n",
       "      <td>female</td>\n",
       "      <td>26.0</td>\n",
       "      <td>0</td>\n",
       "      <td>0</td>\n",
       "      <td>STON/O2. 3101282</td>\n",
       "      <td>7.9250</td>\n",
       "      <td>NaN</td>\n",
       "      <td>S</td>\n",
       "      <td>1</td>\n",
       "      <td>1</td>\n",
       "    </tr>\n",
       "    <tr>\n",
       "      <th>3</th>\n",
       "      <td>4</td>\n",
       "      <td>1</td>\n",
       "      <td>1</td>\n",
       "      <td>Futrelle, Mrs. Jacques Heath (Lily May Peel)</td>\n",
       "      <td>female</td>\n",
       "      <td>35.0</td>\n",
       "      <td>1</td>\n",
       "      <td>0</td>\n",
       "      <td>113803</td>\n",
       "      <td>53.1000</td>\n",
       "      <td>C123</td>\n",
       "      <td>S</td>\n",
       "      <td>1</td>\n",
       "      <td>1</td>\n",
       "    </tr>\n",
       "    <tr>\n",
       "      <th>4</th>\n",
       "      <td>5</td>\n",
       "      <td>0</td>\n",
       "      <td>3</td>\n",
       "      <td>Allen, Mr. William Henry</td>\n",
       "      <td>male</td>\n",
       "      <td>35.0</td>\n",
       "      <td>0</td>\n",
       "      <td>0</td>\n",
       "      <td>373450</td>\n",
       "      <td>8.0500</td>\n",
       "      <td>NaN</td>\n",
       "      <td>S</td>\n",
       "      <td>0</td>\n",
       "      <td>1</td>\n",
       "    </tr>\n",
       "  </tbody>\n",
       "</table>\n",
       "</div>"
      ],
      "text/plain": [
       "   PassengerId  Survived  Pclass  \\\n",
       "0            1         0       3   \n",
       "1            2         1       1   \n",
       "2            3         1       3   \n",
       "3            4         1       1   \n",
       "4            5         0       3   \n",
       "\n",
       "                                                Name     Sex   Age  SibSp  \\\n",
       "0                            Braund, Mr. Owen Harris    male  22.0      1   \n",
       "1  Cumings, Mrs. John Bradley (Florence Briggs Th...  female  38.0      1   \n",
       "2                             Heikkinen, Miss. Laina  female  26.0      0   \n",
       "3       Futrelle, Mrs. Jacques Heath (Lily May Peel)  female  35.0      1   \n",
       "4                           Allen, Mr. William Henry    male  35.0      0   \n",
       "\n",
       "   Parch            Ticket     Fare Cabin Embarked  Sex_mod  Embarked_mod  \n",
       "0      0         A/5 21171   7.2500   NaN        S        0             1  \n",
       "1      0          PC 17599  71.2833   C85        C        1             2  \n",
       "2      0  STON/O2. 3101282   7.9250   NaN        S        1             1  \n",
       "3      0            113803  53.1000  C123        S        1             1  \n",
       "4      0            373450   8.0500   NaN        S        0             1  "
      ]
     },
     "execution_count": 8,
     "metadata": {},
     "output_type": "execute_result"
    }
   ],
   "source": [
    "df['Sex_mod'] = np.where(df['Sex']== 'male', 0, 1)\n",
    "conditions = [\n",
    "    (df['Embarked'] == 'S'),\n",
    "    (df['Embarked'] == 'C'), \n",
    "    (df['Embarked'] == 'Q'),\n",
    "    (df['Embarked'].isnull())\n",
    "    ]\n",
    "values = [1, 2, 3, 0]\n",
    "df['Embarked_mod'] = np.select(conditions, values)\n",
    "df.head()"
   ]
  },
  {
   "cell_type": "code",
   "execution_count": 9,
   "id": "ea6d2e7b",
   "metadata": {},
   "outputs": [],
   "source": [
    "filtered_df = df[df['Age'].notnull()]"
   ]
  },
  {
   "cell_type": "code",
   "execution_count": 10,
   "id": "3620de37",
   "metadata": {
    "scrolled": true
   },
   "outputs": [
    {
     "data": {
      "text/plain": [
       "(     Pclass   Age  SibSp  Parch  Sex_mod  Embarked_mod\n",
       " 0         3  22.0      1      0        0             1\n",
       " 1         1  38.0      1      0        1             2\n",
       " 2         3  26.0      0      0        1             1\n",
       " 3         1  35.0      1      0        1             1\n",
       " 4         3  35.0      0      0        0             1\n",
       " ..      ...   ...    ...    ...      ...           ...\n",
       " 885       3  39.0      0      5        1             3\n",
       " 886       2  27.0      0      0        0             1\n",
       " 887       1  19.0      0      0        1             1\n",
       " 889       1  26.0      0      0        0             2\n",
       " 890       3  32.0      0      0        0             3\n",
       " \n",
       " [714 rows x 6 columns],\n",
       " 0      0\n",
       " 1      1\n",
       " 2      1\n",
       " 3      1\n",
       " 4      0\n",
       "       ..\n",
       " 885    0\n",
       " 886    0\n",
       " 887    1\n",
       " 889    1\n",
       " 890    0\n",
       " Name: Survived, Length: 714, dtype: int64)"
      ]
     },
     "execution_count": 10,
     "metadata": {},
     "output_type": "execute_result"
    }
   ],
   "source": [
    "# because we already know the survival classes, I think it would be best to use LDA here\n",
    "from sklearn.discriminant_analysis import LinearDiscriminantAnalysis\n",
    "X = filtered_df[['Pclass', 'Age', 'SibSp', 'Parch', 'Sex_mod', 'Embarked_mod']]\n",
    "y = filtered_df['Survived']\n",
    "X, y"
   ]
  },
  {
   "cell_type": "code",
   "execution_count": 11,
   "id": "237d2c92",
   "metadata": {
    "scrolled": true
   },
   "outputs": [],
   "source": [
    "lda = LinearDiscriminantAnalysis()\n",
    "X_lda = lda.fit(X, y).transform(X)"
   ]
  },
  {
   "cell_type": "code",
   "execution_count": 12,
   "id": "58b59b62",
   "metadata": {},
   "outputs": [
    {
     "data": {
      "text/plain": [
       "array([[-1.40521858, -0.04526566, -0.3574973 , -0.05833811,  3.36442466,\n",
       "         0.16022395]])"
      ]
     },
     "execution_count": 12,
     "metadata": {},
     "output_type": "execute_result"
    }
   ],
   "source": [
    "lda.coef_"
   ]
  },
  {
   "cell_type": "code",
   "execution_count": 13,
   "id": "abbaacc2",
   "metadata": {},
   "outputs": [],
   "source": [
    "sorted_X_lda = np.sort(np.array([i[0] for i in X_lda]))"
   ]
  },
  {
   "cell_type": "code",
   "execution_count": 14,
   "id": "f68e432b",
   "metadata": {
    "scrolled": true
   },
   "outputs": [
    {
     "data": {
      "text/plain": [
       "[<matplotlib.lines.Line2D at 0x7fbdb0342e20>]"
      ]
     },
     "execution_count": 14,
     "metadata": {},
     "output_type": "execute_result"
    },
    {
     "data": {
      "image/png": "[encoded data removed]",
      "text/plain": [
       "<Figure size 720x576 with 2 Axes>"
      ]
     },
     "metadata": {
      "needs_background": "light"
     },
     "output_type": "display_data"
    }
   ],
   "source": [
    "fig, ax = plt.subplots(nrows=1, ncols=2, figsize=(10, 8))\n",
    "ax[0].hist(X_lda, ec='k', bins=20)\n",
    "ax[1].plot(sorted_X_lda, range(len(X_lda)), 'g.')"
   ]
  },
  {
   "cell_type": "code",
   "execution_count": 17,
   "id": "0c157b2b",
   "metadata": {},
   "outputs": [
    {
     "name": "stdout",
     "output_type": "stream",
     "text": [
      "[[Model]]\n",
      "    (Model(gaussian_cdf, prefix='g1_') + Model(gaussian_cdf, prefix='g2_'))\n",
      "[[Fit Statistics]]\n",
      "    # fitting method   = leastsq\n",
      "    # function evals   = 171\n",
      "    # data points      = 714\n",
      "    # variables        = 6\n",
      "    chi-square         = 504.828466\n",
      "    reduced chi-square = 0.71303456\n",
      "    Akaike info crit   = -235.518284\n",
      "    Bayesian info crit = -208.092986\n",
      "##  Warning: uncertainties could not be estimated:\n",
      "[[Variables]]\n",
      "    g1_amp:    3.1865e-04 (init = 1)\n",
      "    g1_mu:     29092.0394 (init = -1.5)\n",
      "    g1_sigma:  3915.64482 (init = 0.5)\n",
      "    g2_amp:    2.81482385 (init = 1)\n",
      "    g2_mu:     577.794166 (init = 0.5)\n",
      "    g2_sigma:  103.890398 (init = 1)\n"
     ]
    }
   ],
   "source": [
    "y = np.arange(len(X_lda))\n",
    "x = sorted_X_lda\n",
    "\n",
    "#now performing a double gaussian fit on the LDA weights\n",
    "from scipy.special import erf\n",
    "from lmfit import Model\n",
    "\n",
    "# define the basic model.  I included an amplitude parameter\n",
    "def gaussian_cdf(x, amp, mu, sigma):\n",
    "    return (amp/2.0)*(1 + erf( (x-mu)/(sigma*np.sqrt(2))))\n",
    "\n",
    "# create a model that is the sum of two gaussian_cdfs\n",
    "# note that a prefix names each component and will be\n",
    "# applied to the parameter names for each model component\n",
    "model = Model(gaussian_cdf, prefix='g1_') + Model(gaussian_cdf, prefix='g2_')\n",
    "\n",
    "# make a parameters object -- a dict with parameter names\n",
    "# here you add the guess values to your model. Try to get a nice guess of mu\n",
    "# the other don't worry too much\n",
    "params = model.make_params(g1_amp=1, g1_mu=-1.5, g1_sigma=0.5,\n",
    "                           g2_amp=1, g2_mu=0.5, g2_sigma=1)\n",
    "\n",
    "# you can apply bounds to any parameter\n",
    "params['g1_sigma'].min = 0   # sigma must be > 0!\n",
    "params['g2_sigma'].min = 0   # sigma must be > 0!\n",
    "\n",
    "params['g1_amp'].min = 0\n",
    "params['g2_amp'].min = 0\n",
    "\n",
    "# run the fit\n",
    "result = model.fit(y, params, x=x)\n",
    "\n",
    "print(result.fit_report())\n",
    "\n",
    "# plot results, including individual components\n",
    "comps = result.eval_components(result.params, x=x)"
   ]
  },
  {
   "cell_type": "code",
   "execution_count": 20,
   "id": "4f3dad1f",
   "metadata": {},
   "outputs": [
    {
     "data": {
      "text/plain": [
       "<matplotlib.legend.Legend at 0x7fbdb06e7f10>"
      ]
     },
     "execution_count": 20,
     "metadata": {},
     "output_type": "execute_result"
    },
    {
     "data": {
      "image/png": "[encoded data removed]",
      "text/plain": [
       "<Figure size 720x576 with 2 Axes>"
      ]
     },
     "metadata": {
      "needs_background": "light"
     },
     "output_type": "display_data"
    }
   ],
   "source": [
    "fig, ax = plt.subplots(nrows=1, ncols=2, figsize=(10, 8))\n",
    "\n",
    "ax[0].plot(y, x,'r.', label='data')\n",
    "ax[0].plot(x, result.best_fit, 'k-', label='fit')\n",
    "ax[0].plot(x, comps['g1_'], 'b--', label='g1_')\n",
    "ax[0].plot(x, comps['g2_'], 'g--', label='g2_')\n",
    "ax[0].legend(loc='best')"
   ]
  },
  {
   "cell_type": "code",
   "execution_count": null,
   "id": "ef68c44d",
   "metadata": {},
   "outputs": [],
   "source": [
    "def gaussian_pdf(x, amp, mu, sigma):\n",
    "    return (amp/(sigma*np.sqrt(2*np.pi)))*np.exp(-((x-mu)**2/(2*sigma**2)))\n",
    "\n",
    "bins=np.arange(10, 50, 1)\n",
    "ax[1].hist(data[sheet], bins=bins, density=True, alpha=0.8, color='gray', rwidth=0.85,  \\\n",
    "           label='N = {0}'.format(len(data[sheet])))\n",
    "\n",
    "x = np.linspace(0, 50, 200)\n",
    "\n",
    "\n",
    "##plotting the second gaussian\n",
    "amp2 = result.params['g2_amp']\n",
    "mu2 = result.params['g2_mu']\n",
    "sigma2 = result.params['g2_sigma']\n",
    "ax[1].plot(x, gaussian_pdf(x, amp2, mu2, sigma2), 'g--', \\\n",
    "           label='$\\mu$ = {:.2f}, $\\sigma$ = {:.2f}'.format(mu2.value, sigma2.value))\n",
    "\n",
    "##plotting the first gaussian\n",
    "amp1 = result.params['g1_amp']\n",
    "mu1 = result.params['g1_mu']\n",
    "sigma1 = result.params['g1_sigma']\n",
    "ax[1].plot(x, gaussian_pdf(x, amp1, mu1, sigma1), 'b--', \\\n",
    "           label='$\\mu$ = {:.2f}, $\\sigma$ = {:.2f}'.format(mu1.value, sigma1.value))\n",
    "\n",
    "ax[1].legend(loc='best')\n",
    "ax[1].set_ylim(bottom=0, top=0.4)\n",
    "fig.tight_layout()"
   ]
  }
 ],
 "metadata": {
  "kernelspec": {
   "display_name": "Python 3",
   "language": "python",
   "name": "python3"
  },
  "language_info": {
   "codemirror_mode": {
    "name": "ipython",
    "version": 3
   },
   "file_extension": ".py",
   "mimetype": "text/x-python",
   "name": "python",
   "nbconvert_exporter": "python",
   "pygments_lexer": "ipython3",
   "version": "3.8.8"
  }
 },
 "nbformat": 4,
 "nbformat_minor": 5
}
